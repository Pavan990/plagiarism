{
 "cells": [
  {
   "cell_type": "code",
   "execution_count": 14,
   "id": "1376c004",
   "metadata": {},
   "outputs": [
    {
     "name": "stdout",
     "output_type": "stream",
     "text": [
      "('p3.txt.txt', 'sudoku.txt', 0.0)\n",
      "('sudoku.txt', 'test_file.txt', 0.0)\n",
      "('p2.txt.txt', 'sudoku.txt', 0.0)\n",
      "('p2.txt.txt', 'p3.txt.txt', 1.0)\n",
      "('p1.txt.txt', 'p2.txt.txt', 0.1825567097453366)\n",
      "('p1.txt.txt', 'sudoku.txt', 0.0)\n",
      "('p2.txt.txt', 'test_file.txt', 0.0)\n",
      "('p1.txt.txt', 'test_file.txt', 0.0)\n",
      "('p1.txt.txt', 'p3.txt.txt', 0.1825567097453366)\n",
      "('p3.txt.txt', 'test_file.txt', 0.0)\n"
     ]
    }
   ],
   "source": [
    "import os\n",
    "from numpy import vectorize \n",
    "from sklearn.feature_extraction.text import TfidfVectorizer\n",
    "from sklearn.metrics.pairwise import cosine_similarity\n",
    " \n",
    "files = [doc for doc in os.listdir() if doc.endswith('.txt')]\n",
    "contents = [open(File).read() for File in files]\n",
    " \n",
    "vectorize = lambda Text: TfidfVectorizer().fit_transform(Text).toarray()\n",
    "similarity = lambda doc1, doc2: cosine_similarity([doc1, doc2])\n",
    " \n",
    "vectors = vectorize(contents)\n",
    "p_vectors = list(zip(files, vectors))\n",
    " \n",
    "def check_plagiarism():\n",
    "    results = set()\n",
    "    global p_vectors\n",
    "    for sample_a, text_vector_a in p_vectors:\n",
    "        new_vectors = p_vectors.copy()\n",
    "        current_index = new_vectors.index((sample_a, text_vector_a))\n",
    "        del new_vectors[current_index]\n",
    "        for sample_b, text_vector_b in new_vectors:\n",
    "            sim_score = similarity(text_vector_a, text_vector_b)[0][1]\n",
    "            sample_pair = sorted((sample_a, sample_b))\n",
    "            score = sample_pair[0], sample_pair[1], sim_score\n",
    "            results.add(score)\n",
    "    return results\n",
    " \n",
    "for p in check_plagiarism():\n",
    "    print(p)"
   ]
  },
  {
   "cell_type": "code",
   "execution_count": null,
   "id": "89590afc",
   "metadata": {},
   "outputs": [],
   "source": []
  },
  {
   "cell_type": "code",
   "execution_count": null,
   "id": "e1595402",
   "metadata": {},
   "outputs": [],
   "source": []
  }
 ],
 "metadata": {
  "kernelspec": {
   "display_name": "Python 3",
   "language": "python",
   "name": "python3"
  },
  "language_info": {
   "codemirror_mode": {
    "name": "ipython",
    "version": 3
   },
   "file_extension": ".py",
   "mimetype": "text/x-python",
   "name": "python",
   "nbconvert_exporter": "python",
   "pygments_lexer": "ipython3",
   "version": "3.8.8"
  }
 },
 "nbformat": 4,
 "nbformat_minor": 5
}
